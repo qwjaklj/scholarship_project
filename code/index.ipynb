{
 "cells": [
  {
   "cell_type": "raw",
   "metadata": {},
   "source": [
    "---\n",
    "title: \"Unveiling the Climate Guardians: The Role of Vegetation in Temperature Regulation from 2025 to 2074\"\n",
    "subtitle: \"DSAN Scholarship Project\"\n",
    "date: 05/19/2024\n",
    "date-modified: last-modified\n",
    "date-format: long\n",
    "author:\n",
    "  - name: Yicheng Zhu\n",
    "    affiliations:\n",
    "      - id: gu\n",
    "        name: Georgetown University\n",
    "        city: Washington\n",
    "        state: DC\n",
    "---"
   ]
  },
  {
   "cell_type": "markdown",
   "metadata": {},
   "source": [
    "## Introduction\n",
    "As a cloud of climate change continues getting closer every year, understanding the complex dynamics behind regional temperature disparities becomes more important. This paper sets out to unravel them by taking an area specific to the forecast between 2025 and 2074. The ultimate aim is to elaborate on the features of temperature trends and, at the end of the day, come up with mitigation ways to soften the adverse effects of the phenomenon.\n",
    "\n",
    "Our story begins with the selection of Scenario 22, which is run by the Beijing Climate Center Climate System Model version 1.1 under the Representative Concentration Pathway 4.5. Scenario 22 was chosen from several available models, as it produced the lowest mean RMSE and, by extension, better predictive accuracy of our Random Forest model. This just cements our footing as we move ahead from the confidence in our analysis, using data from Scenario 22 to visualize the temperature trend in the future.\n",
    "\n",
    "On plotting the projected temperatures, it was noted that between the years 2025 and 2074, there will be an increase in the temperatures that will be steady over the region. Apparently, the temperatures in the western region always rose above the temperatures in the eastern region, which led me to investigate what could be the cause of this difference in temperature. I concluded that the vegetation cover may be a major cause of the variation in the temperatures. To test this hypothesis further, we considered the spatial distribution of bare ground cover in the region. The results were indeed dramatic: the east, which was much more vegetated, was far cooler in temperature than the very open western part. Such an observation points toward the significance of vegetative cover in temperature moderation and actually warrants even greater effort to identify the actual types of vegetative covers that could be responsible for such an effect.\n",
    "\n",
    "The next step of our research was to find out the types of vegetation that marked the most significance in regard to temperature. Having correlated the different types of vegetation with temperature, we found out that vegetative litter was the lynchpin factor. We found a significant inverse correlation of vegetative litter with fractions of summer and winter temperatures, hence implying that higher coverage of litter will result in lower temperatures. In addition, herb coverage was also found to have a significant positive correlation with litter coverage; this implies that the actions of these types of vegetation are jointly exerting an influence on the temperature levels of the study area.\n",
    "\n",
    "Here, we provide some actionable understandings of the mechanisms by which vegetation influences temperature dynamics. Such results emphasize the importance of maintaining and increasing plant litter and herb coverage as highly effective means to fight against increasing temperatures for environmental integrity. We shall, therefore, proceed with the manner of using these insights in the development of targeted interventions in this regard that possibly may help in mitigating adverse climate change impacts and fostering a resilient ecosystem for the future."
   ]
  }
 ],
 "metadata": {
  "language_info": {
   "name": "python"
  }
 },
 "nbformat": 4,
 "nbformat_minor": 2
}
