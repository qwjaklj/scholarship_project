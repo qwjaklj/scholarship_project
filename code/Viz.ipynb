{
 "cells": [
  {
   "cell_type": "markdown",
   "metadata": {},
   "source": [
    "### Import Dataset"
   ]
  },
  {
   "cell_type": "code",
   "execution_count": 16,
   "metadata": {},
   "outputs": [],
   "source": [
    "import pandas as pd\n",
    "import numpy as np\n",
    "import plotly.express as px\n",
    "predict_outcome = pd.read_csv('../data/predict_outcome.csv')\n",
    "nearterm_cleaned = pd.read_csv('../data/nearterm_cleaned.csv')\n"
   ]
  },
  {
   "cell_type": "code",
   "execution_count": 17,
   "metadata": {},
   "outputs": [
    {
     "data": {
      "text/html": [
       "<div>\n",
       "<style scoped>\n",
       "    .dataframe tbody tr th:only-of-type {\n",
       "        vertical-align: middle;\n",
       "    }\n",
       "\n",
       "    .dataframe tbody tr th {\n",
       "        vertical-align: top;\n",
       "    }\n",
       "\n",
       "    .dataframe thead th {\n",
       "        text-align: right;\n",
       "    }\n",
       "</style>\n",
       "<table border=\"1\" class=\"dataframe\">\n",
       "  <thead>\n",
       "    <tr style=\"text-align: right;\">\n",
       "      <th></th>\n",
       "      <th>long</th>\n",
       "      <th>lat</th>\n",
       "      <th>year</th>\n",
       "      <th>TimePeriod</th>\n",
       "      <th>RCP</th>\n",
       "      <th>scenario</th>\n",
       "      <th>DrySoilDays_Summer_whole</th>\n",
       "      <th>Evap_Summer</th>\n",
       "      <th>ExtremeShortTermDryStress_Summer_whole</th>\n",
       "      <th>FrostDays_Winter</th>\n",
       "      <th>...</th>\n",
       "      <th>PPT_Winter</th>\n",
       "      <th>PPT_Summer</th>\n",
       "      <th>T_Winter</th>\n",
       "      <th>T_Summer</th>\n",
       "      <th>Tmax_Summer</th>\n",
       "      <th>Tmin_Winter</th>\n",
       "      <th>VWC_Winter_whole</th>\n",
       "      <th>VWC_Spring_whole</th>\n",
       "      <th>VWC_Summer_whole</th>\n",
       "      <th>VWC_Fall_whole</th>\n",
       "    </tr>\n",
       "  </thead>\n",
       "  <tbody>\n",
       "    <tr>\n",
       "      <th>0</th>\n",
       "      <td>-110.047</td>\n",
       "      <td>37.604</td>\n",
       "      <td>2021</td>\n",
       "      <td>NT</td>\n",
       "      <td>4.5</td>\n",
       "      <td>sc22</td>\n",
       "      <td>0.0</td>\n",
       "      <td>2.14072</td>\n",
       "      <td>35.247</td>\n",
       "      <td>69.0</td>\n",
       "      <td>...</td>\n",
       "      <td>2.67</td>\n",
       "      <td>4.48</td>\n",
       "      <td>2.131</td>\n",
       "      <td>24.55</td>\n",
       "      <td>35.95</td>\n",
       "      <td>-12.15</td>\n",
       "      <td>0.04704</td>\n",
       "      <td>0.0439</td>\n",
       "      <td>0.04214</td>\n",
       "      <td>0.09343</td>\n",
       "    </tr>\n",
       "    <tr>\n",
       "      <th>1</th>\n",
       "      <td>-110.047</td>\n",
       "      <td>37.604</td>\n",
       "      <td>2021</td>\n",
       "      <td>NT</td>\n",
       "      <td>4.5</td>\n",
       "      <td>sc23</td>\n",
       "      <td>0.0</td>\n",
       "      <td>2.14072</td>\n",
       "      <td>35.247</td>\n",
       "      <td>69.0</td>\n",
       "      <td>...</td>\n",
       "      <td>2.67</td>\n",
       "      <td>4.48</td>\n",
       "      <td>2.131</td>\n",
       "      <td>24.55</td>\n",
       "      <td>35.95</td>\n",
       "      <td>-12.15</td>\n",
       "      <td>0.04704</td>\n",
       "      <td>0.0439</td>\n",
       "      <td>0.04214</td>\n",
       "      <td>0.09343</td>\n",
       "    </tr>\n",
       "    <tr>\n",
       "      <th>2</th>\n",
       "      <td>-110.047</td>\n",
       "      <td>37.604</td>\n",
       "      <td>2021</td>\n",
       "      <td>NT</td>\n",
       "      <td>4.5</td>\n",
       "      <td>sc24</td>\n",
       "      <td>0.0</td>\n",
       "      <td>2.14072</td>\n",
       "      <td>35.247</td>\n",
       "      <td>69.0</td>\n",
       "      <td>...</td>\n",
       "      <td>2.67</td>\n",
       "      <td>4.48</td>\n",
       "      <td>2.131</td>\n",
       "      <td>24.55</td>\n",
       "      <td>35.95</td>\n",
       "      <td>-12.15</td>\n",
       "      <td>0.04704</td>\n",
       "      <td>0.0439</td>\n",
       "      <td>0.04214</td>\n",
       "      <td>0.09343</td>\n",
       "    </tr>\n",
       "    <tr>\n",
       "      <th>3</th>\n",
       "      <td>-110.047</td>\n",
       "      <td>37.604</td>\n",
       "      <td>2021</td>\n",
       "      <td>NT</td>\n",
       "      <td>4.5</td>\n",
       "      <td>sc25</td>\n",
       "      <td>0.0</td>\n",
       "      <td>2.14072</td>\n",
       "      <td>35.247</td>\n",
       "      <td>69.0</td>\n",
       "      <td>...</td>\n",
       "      <td>2.67</td>\n",
       "      <td>4.48</td>\n",
       "      <td>2.131</td>\n",
       "      <td>24.55</td>\n",
       "      <td>35.95</td>\n",
       "      <td>-12.15</td>\n",
       "      <td>0.04704</td>\n",
       "      <td>0.0439</td>\n",
       "      <td>0.04214</td>\n",
       "      <td>0.09343</td>\n",
       "    </tr>\n",
       "    <tr>\n",
       "      <th>4</th>\n",
       "      <td>-110.047</td>\n",
       "      <td>37.604</td>\n",
       "      <td>2021</td>\n",
       "      <td>NT</td>\n",
       "      <td>4.5</td>\n",
       "      <td>sc26</td>\n",
       "      <td>0.0</td>\n",
       "      <td>2.14072</td>\n",
       "      <td>35.247</td>\n",
       "      <td>69.0</td>\n",
       "      <td>...</td>\n",
       "      <td>2.67</td>\n",
       "      <td>4.48</td>\n",
       "      <td>2.131</td>\n",
       "      <td>24.55</td>\n",
       "      <td>35.95</td>\n",
       "      <td>-12.15</td>\n",
       "      <td>0.04704</td>\n",
       "      <td>0.0439</td>\n",
       "      <td>0.04214</td>\n",
       "      <td>0.09343</td>\n",
       "    </tr>\n",
       "  </tbody>\n",
       "</table>\n",
       "<p>5 rows × 21 columns</p>\n",
       "</div>"
      ],
      "text/plain": [
       "      long     lat  year TimePeriod  RCP scenario  DrySoilDays_Summer_whole  \\\n",
       "0 -110.047  37.604  2021         NT  4.5     sc22                       0.0   \n",
       "1 -110.047  37.604  2021         NT  4.5     sc23                       0.0   \n",
       "2 -110.047  37.604  2021         NT  4.5     sc24                       0.0   \n",
       "3 -110.047  37.604  2021         NT  4.5     sc25                       0.0   \n",
       "4 -110.047  37.604  2021         NT  4.5     sc26                       0.0   \n",
       "\n",
       "   Evap_Summer  ExtremeShortTermDryStress_Summer_whole  FrostDays_Winter  ...  \\\n",
       "0      2.14072                                  35.247              69.0  ...   \n",
       "1      2.14072                                  35.247              69.0  ...   \n",
       "2      2.14072                                  35.247              69.0  ...   \n",
       "3      2.14072                                  35.247              69.0  ...   \n",
       "4      2.14072                                  35.247              69.0  ...   \n",
       "\n",
       "   PPT_Winter  PPT_Summer  T_Winter  T_Summer  Tmax_Summer  Tmin_Winter  \\\n",
       "0        2.67        4.48     2.131     24.55        35.95       -12.15   \n",
       "1        2.67        4.48     2.131     24.55        35.95       -12.15   \n",
       "2        2.67        4.48     2.131     24.55        35.95       -12.15   \n",
       "3        2.67        4.48     2.131     24.55        35.95       -12.15   \n",
       "4        2.67        4.48     2.131     24.55        35.95       -12.15   \n",
       "\n",
       "   VWC_Winter_whole  VWC_Spring_whole  VWC_Summer_whole  VWC_Fall_whole  \n",
       "0           0.04704            0.0439           0.04214         0.09343  \n",
       "1           0.04704            0.0439           0.04214         0.09343  \n",
       "2           0.04704            0.0439           0.04214         0.09343  \n",
       "3           0.04704            0.0439           0.04214         0.09343  \n",
       "4           0.04704            0.0439           0.04214         0.09343  \n",
       "\n",
       "[5 rows x 21 columns]"
      ]
     },
     "execution_count": 17,
     "metadata": {},
     "output_type": "execute_result"
    }
   ],
   "source": [
    "predict_outcome.head()"
   ]
  },
  {
   "cell_type": "markdown",
   "metadata": {},
   "source": [
    "### Q1: Which Scenario Most Fits Prediction?"
   ]
  },
  {
   "cell_type": "code",
   "execution_count": 18,
   "metadata": {},
   "outputs": [],
   "source": [
    "common_columns = ['long', 'lat', 'year', 'TimePeriod', 'RCP', 'scenario']\n",
    "merged_data = pd.merge(predict_outcome, nearterm_cleaned, on=common_columns, suffixes=('_pred', '_actual'))\n",
    "\n",
    "#cleaned_merged_data = merged_data.dropna()\n",
    "\n",
    "prediction_columns = ['DrySoilDays_Summer_whole', 'Evap_Summer', 'ExtremeShortTermDryStress_Summer_whole', \n",
    "                      'FrostDays_Winter', 'PPT_Winter', 'PPT_Summer', 'T_Winter', 'T_Summer', \n",
    "                      'Tmax_Summer', 'Tmin_Winter', 'VWC_Winter_whole', 'VWC_Spring_whole', \n",
    "                      'VWC_Summer_whole', 'VWC_Fall_whole']\n",
    "\n",
    "errors_by_scenario = {}\n",
    "for column in prediction_columns:\n",
    "    pred_column = column + '_pred'\n",
    "    actual_column = column + '_actual'\n",
    "    merged_data['error'] = (merged_data[actual_column] - merged_data[pred_column]) ** 2\n",
    "    rmse_by_scenario = merged_data.groupby('scenario')['error'].mean().apply(np.sqrt)\n",
    "    errors_by_scenario[column] = rmse_by_scenario\n",
    "combined_errors = pd.DataFrame(errors_by_scenario)\n",
    "\n",
    "combined_errors['mean_error'] = combined_errors.mean(axis=1)\n",
    "lowest_error_scenario = combined_errors['mean_error'].idxmin()\n"
   ]
  },
  {
   "cell_type": "code",
   "execution_count": 19,
   "metadata": {},
   "outputs": [
    {
     "data": {
      "text/html": [
       "<iframe\n",
       "    scrolling=\"no\"\n",
       "    width=\"100%\"\n",
       "    height=\"545px\"\n",
       "    src=\"iframe_figures/figure_19.html\"\n",
       "    frameborder=\"0\"\n",
       "    allowfullscreen\n",
       "></iframe>\n"
      ]
     },
     "metadata": {},
     "output_type": "display_data"
    }
   ],
   "source": [
    "import plotly.express as px\n",
    "import plotly.io as pio\n",
    "pio.renderers.default = 'iframe_connected'\n",
    "\n",
    "fig = px.bar(combined_errors.reset_index(), x='scenario', y='mean_error', title='Mean RMSE by Scenario',\n",
    "             labels={'mean_error': 'Mean RMSE', 'scenario': 'Scenario'}, text='mean_error')\n",
    "\n",
    "fig.add_vline(x=combined_errors.index.get_loc(lowest_error_scenario), line_width=3, line_dash=\"dash\", line_color=\"green\")\n",
    "\n",
    "fig.show()\n"
   ]
  },
  {
   "cell_type": "markdown",
   "metadata": {},
   "source": [
    "But the examination of the Mean RMSE values across different situations shows that sc22 (Scenario 22) gives the lowest Mean RMSE (i.e. gives the best possible predictive accuracy among Scenarios that I have analysed). This performance is truly remarkable, and this tells us that data predicted by sc22 will give the best possible alignment with true to-be values whenever we shall put them with our Random forest model in the future.\n",
    "The sc22 corresponds to Representative Concentration Pathway 4.5 (RCP45), and uses the Beijing Climate Center Climate System Model version 1.1 (bcc-csm1-1) – which stands to a moderate trajectory in terms of the climate change.<br>\n",
    "\n",
    "For any future forecasting experiment, we shall ensure the highest possible level of accuracy in our projections by making use of sc22 forecasts, precisely because the scenario is extremely robust in this regard.<br>\n",
    "\n",
    "Ahead in our study, the next crucial step will be to gauge future temporal changes in temperature for the next 50 years – by appropriately using Scenario 22 which will help us to better forecast future trends in Tmax_Summer and Tmin_Winter measurements – both insights are useful for building future climate models and informing strategic deliberations and decision-making processes."
   ]
  },
  {
   "cell_type": "markdown",
   "metadata": {},
   "source": [
    "### Q2: How will temprature change in future 50 years based on senario 22?"
   ]
  },
  {
   "cell_type": "code",
   "execution_count": 20,
   "metadata": {},
   "outputs": [],
   "source": [
    "historic_data = pd.read_csv('../data/historic_cleaned.csv')\n",
    "nearterm_data = nearterm_cleaned[nearterm_cleaned['scenario'] == 'sc22']\n",
    "\n",
    "combined_data = pd.concat([historic_data, nearterm_data], ignore_index=True)"
   ]
  },
  {
   "cell_type": "code",
   "execution_count": 21,
   "metadata": {},
   "outputs": [],
   "source": [
    "from sklearn.linear_model import LinearRegression\n",
    "historical_data = combined_data[combined_data['scenario'] == 'sc1']\n",
    "\n",
    "models = {}\n",
    "predictions = []\n",
    "\n",
    "locations = historical_data[['long', 'lat']].drop_duplicates()\n",
    "\n",
    "for _, location in locations.iterrows():\n",
    "    long = location['long']\n",
    "    lat = location['lat']\n",
    "    \n",
    "    location_data = historical_data[(historical_data['long'] == long) & (historical_data['lat'] == lat)]\n",
    "    \n",
    "    X = location_data[['year']].values\n",
    "    y_winter = location_data['T_Winter'].values\n",
    "    y_summer = location_data['T_Summer'].values\n",
    "    \n",
    "    model_winter = LinearRegression().fit(X, y_winter)\n",
    "    model_summer = LinearRegression().fit(X, y_summer)\n",
    "    \n",
    "    models[(long, lat)] = {\n",
    "        'winter': model_winter,\n",
    "        'summer': model_summer\n",
    "    }\n",
    "    future_years = np.arange(2025, 2024 + 50).reshape(-1, 1)\n",
    "    predicted_winter = model_winter.predict(future_years)\n",
    "    predicted_summer = model_summer.predict(future_years)\n",
    "    \n",
    "    for year, winter_temp, summer_temp in zip(future_years.flatten(), predicted_winter, predicted_summer):\n",
    "        predictions.append({\n",
    "            'long': long,\n",
    "            'lat': lat,\n",
    "            'year': year,\n",
    "            'T_Winter': winter_temp,\n",
    "            'T_Summer': summer_temp\n",
    "        })\n",
    "\n",
    "predictions_df = pd.DataFrame(predictions)\n"
   ]
  },
  {
   "cell_type": "code",
   "execution_count": 22,
   "metadata": {},
   "outputs": [
    {
     "data": {
      "text/html": [
       "<iframe\n",
       "    scrolling=\"no\"\n",
       "    width=\"100%\"\n",
       "    height=\"545px\"\n",
       "    src=\"iframe_figures/figure_22.html\"\n",
       "    frameborder=\"0\"\n",
       "    allowfullscreen\n",
       "></iframe>\n"
      ]
     },
     "metadata": {},
     "output_type": "display_data"
    }
   ],
   "source": [
    "pio.renderers.default = 'iframe_connected'\n",
    "fig = px.scatter_geo(\n",
    "    predictions_df,\n",
    "    lon='long',\n",
    "    lat='lat',\n",
    "    color='T_Summer',\n",
    "    animation_frame='year',\n",
    "    projection=\"natural earth\",\n",
    "    title='Yearly Predicted Temperatures (2024-2074)',\n",
    "    range_color=[22,24],\n",
    "    color_continuous_scale=px.colors.diverging.RdBu_r\n",
    ")\n",
    "\n",
    "fig.update_geos(\n",
    "    showcountries=True,\n",
    "    showcoastlines=True,\n",
    "    showland=True,\n",
    "    landcolor=\"lightgray\",\n",
    "    fitbounds=\"locations\",\n",
    "        lonaxis=dict(\n",
    "        showgrid=True,\n",
    "        gridwidth=1,\n",
    "        range=[-180, 180],\n",
    "        dtick=10\n",
    "    ),\n",
    "    lataxis=dict(\n",
    "        showgrid=True,\n",
    "        gridwidth=1,\n",
    "        range=[-90, 90],\n",
    "        dtick=10\n",
    "    )\n",
    ")\n",
    "fig.update_layout(template='simple_white',geo=dict(landcolor='white'))\n",
    "fig.show()\n"
   ]
  },
  {
   "cell_type": "markdown",
   "metadata": {},
   "source": [
    "In the observed data, the temperature in this region is increasing year by year from 2025 to 2074, and the temperature of the west is higher than that of the east. The next step we should take is to investigate the reasons why the temperature changes so much in a certain area. We can consider various variables for this part, such as variations of plant coverage areas, urbanisation features, local topographic features, and regional climatic influences on the region. By conducting such an analysis, we can identify the main causal factors behind the variation in temperature and take actions to minimise potential climate impacts."
   ]
  },
  {
   "cell_type": "markdown",
   "metadata": {},
   "source": [
    "### Q3: Why does east part has lower temperature than the west part?"
   ]
  },
  {
   "cell_type": "code",
   "execution_count": 23,
   "metadata": {},
   "outputs": [
    {
     "data": {
      "text/html": [
       "<iframe\n",
       "    scrolling=\"no\"\n",
       "    width=\"100%\"\n",
       "    height=\"545px\"\n",
       "    src=\"iframe_figures/figure_23.html\"\n",
       "    frameborder=\"0\"\n",
       "    allowfullscreen\n",
       "></iframe>\n"
      ]
     },
     "metadata": {},
     "output_type": "display_data"
    }
   ],
   "source": [
    "pio.renderers.default = 'iframe_connected'\n",
    "historic_data.head()\n",
    "scatter_hist = px.scatter(\n",
    "    historic_data,\n",
    "    x='lat',\n",
    "    y='Bare_percent',\n",
    "    hover_name='lat',\n",
    "    marginal_x='histogram',\n",
    "    marginal_y='histogram',\n",
    "    title='Scatter Plot with Marginal Histograms: Bare Ground Coverage Percent with Latitude',\n",
    "    labels={'lat': 'Latitude', 'Bare_percent': 'Bare Ground Coverage Percent (%)'},\n",
    "    trendline=\"ols\",\n",
    "    template='simple_white'\n",
    ")\n",
    "scatter_hist.show()"
   ]
  },
  {
   "cell_type": "markdown",
   "metadata": {},
   "source": [
    "From the scatter plot analysis, it is obvious that the east part of the region has less bare ground coverage compared to the west part; thus, more plant coverage will result in less temperature. This further underpins the importance of vegetation in terms of reducing temperature increase and countering global warming in the future. Further research that this analysis could bring about will be to find out the exact types of plants that highly influence temperature. Through such an analysis of the influence of different plant species upon temperature variation, it will be possible to make educated guesses on which type of vegetation best regulates the climate and, therefore, come up with specific strategies for environmental management and conservation."
   ]
  },
  {
   "cell_type": "markdown",
   "metadata": {},
   "source": [
    "### Q4: What kind of plant helps prevent global warming most efficiently?"
   ]
  },
  {
   "cell_type": "code",
   "execution_count": 24,
   "metadata": {},
   "outputs": [
    {
     "data": {
      "text/html": [
       "<iframe\n",
       "    scrolling=\"no\"\n",
       "    width=\"100%\"\n",
       "    height=\"545px\"\n",
       "    src=\"iframe_figures/figure_24.html\"\n",
       "    frameborder=\"0\"\n",
       "    allowfullscreen\n",
       "></iframe>\n"
      ]
     },
     "metadata": {},
     "output_type": "display_data"
    }
   ],
   "source": [
    "import plotly.figure_factory as ff\n",
    "pio.renderers.default = 'iframe_connected'\n",
    "correlation_data = historical_data[['T_Summer', 'T_Winter', 'treecanopy_percent', 'Ann_Herb_percent', \n",
    "                                    'Herb_percent', 'Litter_percent', 'Shrub_percent']]\n",
    "\n",
    "correlation_matrix = correlation_data.corr()\n",
    "\n",
    "fig = ff.create_annotated_heatmap(\n",
    "    z=correlation_matrix.values,\n",
    "    x=list(correlation_matrix.columns),\n",
    "    y=list(correlation_matrix.index),\n",
    "    annotation_text=correlation_matrix.round(2).values,\n",
    "    colorscale='RdBu',  \n",
    "    showscale=True\n",
    ")\n",
    "\n",
    "fig.update_layout(\n",
    "    title='Correlation Matrix of Climate Factors and Vegetation Types',\n",
    "    xaxis_title='Variables',\n",
    "    yaxis_title='Variables',\n",
    "    xaxis=dict(tickmode='array', tickvals=list(range(len(correlation_matrix.columns))), ticktext=list(correlation_matrix.columns)),\n",
    "    yaxis=dict(tickmode='array', tickvals=list(range(len(correlation_matrix.index))), ticktext=list(correlation_matrix.index))\n",
    ")"
   ]
  },
  {
   "cell_type": "markdown",
   "metadata": {},
   "source": [
    "Plant litter has a strong negative correlation with both T_Summer and T_Winter, which becomes significant further. In other words, more litter means a lower temperature, actually explaining that plant litter does make a difference, core to temperature regulation. There, again, is a very strong positive relationship with herb coverage and litter coverage, meaning that as much as literature coverage, ventilation must be provided.\n",
    "\n",
    "Therefore, plant litter seems to be the major variable associated in the support of this increasing temperature, and the temperature regulation by herb coverage is in an indirect way because of a strong association with litter coverage. Following on, maintenance and management in order to enhance litter and herb coverage could thus be successful in fighting against this increase in temperatures at the same time assuring some stability in the environment."
   ]
  },
  {
   "cell_type": "markdown",
   "metadata": {},
   "source": [
    "### Conclusion\n",
    "\n",
    "Using data from Scenario 22 (sc22) to look at all the changes in temperature trends from 2025 to 2074 gives us useful information about the things that cause temperature changes. Initially, we saw a steady rise in temperatures across the area, with the western part always having warmer temperatures than the eastern part. So, it was thought that these differences in temperature might be caused by differences in the amount of plants covering the ground.\n",
    "\n",
    "Our further research confirmed that there is less open land in the eastern part of the area than in the western part. This highlights how important vegetation is for keeping the temperature stable. This finding shows how important plants are for lowering temperatures and stopping global warming. So, our main goal was to find the specific plant types that have the most significant effect on temperature.\n",
    "\n",
    "A detailed study that looked at the relationships between different types of plants and temperature found that plant litter has a big effect on lowering temperature. There is a negative relationship between plant litter and both T_Summer and T_Winter. This means that more litter means cooler temperatures. This shows that plant litter is very important for keeping temperatures in check and stopping things from getting too hot.\n",
    "\n",
    "The connection matrix also showed a strong positive link between the amount of herb cover and the amount of litter cover. Basically, this means that areas with more herbaceous plants tend to have more fallen leaves and other organic matter, which has a secondary effect on how temperature is controlled. When you look at how the coverage of herbs and litter is linked, you can see how different types of plants work together to keep the temperature stable and cold.\n",
    "\n",
    "To sum up, the study shows that plant litter is very important for keeping temperatures from rising, and herb covering is even more helpful because it is closely related to litter. These results make it clear that protecting and growing plant litter and herb coverage are effective ways to slow down rising temperatures and keep the environment stable. It is very important to keep different kinds of plants alive and growing so that the environment stays healthy and strong in the face of climate change.The Mean RMSE values for different cases show that Scenario 22 (sc22) has the lowest RMSE, which means it can predict events more accurately than any other scenario. The great outcome shows that the data forecasted by Scenario 22 is the most accurate when our Random Forest model is used. The Beijing Climate Center Climate System Model version 1.1 (bcc-csm1-1) is used in Scenario 22 to show a mild path of climate change. It is linked to the Representative Concentration Pathway 4.5 (RCP45). Using Scenario 22's predictions for more research will ensure the highest level of accuracy in our predictions because they are strong and reliable. The next important step is to predict how temperatures will change over the next 50 years by using Scenario 22 to guess how Tmax_Summer and Tmin_Winter will change in the future. This study will give us useful details about how the weather will change in the future, which will help us make plans and decisions."
   ]
  }
 ],
 "metadata": {
  "kernelspec": {
   "display_name": "base",
   "language": "python",
   "name": "python3"
  },
  "language_info": {
   "codemirror_mode": {
    "name": "ipython",
    "version": 3
   },
   "file_extension": ".py",
   "mimetype": "text/x-python",
   "name": "python",
   "nbconvert_exporter": "python",
   "pygments_lexer": "ipython3",
   "version": "3.11.5"
  }
 },
 "nbformat": 4,
 "nbformat_minor": 2
}
