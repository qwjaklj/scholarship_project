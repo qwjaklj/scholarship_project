{
 "cells": [
  {
   "cell_type": "markdown",
   "metadata": {},
   "source": [
    "### Import Data Set"
   ]
  },
  {
   "cell_type": "code",
   "execution_count": 81,
   "metadata": {},
   "outputs": [
    {
     "data": {
      "text/html": [
       "<div>\n",
       "<style scoped>\n",
       "    .dataframe tbody tr th:only-of-type {\n",
       "        vertical-align: middle;\n",
       "    }\n",
       "\n",
       "    .dataframe tbody tr th {\n",
       "        vertical-align: top;\n",
       "    }\n",
       "\n",
       "    .dataframe thead th {\n",
       "        text-align: right;\n",
       "    }\n",
       "</style>\n",
       "<table border=\"1\" class=\"dataframe\">\n",
       "  <thead>\n",
       "    <tr style=\"text-align: right;\">\n",
       "      <th></th>\n",
       "      <th>long</th>\n",
       "      <th>lat</th>\n",
       "      <th>year</th>\n",
       "      <th>TimePeriod</th>\n",
       "      <th>RCP</th>\n",
       "      <th>scenario</th>\n",
       "      <th>treecanopy_percent</th>\n",
       "      <th>Ann_Herb_percent</th>\n",
       "      <th>Bare_percent</th>\n",
       "      <th>Herb_percent</th>\n",
       "      <th>...</th>\n",
       "      <th>PPT_Winter</th>\n",
       "      <th>PPT_Summer</th>\n",
       "      <th>T_Winter</th>\n",
       "      <th>T_Summer</th>\n",
       "      <th>Tmax_Summer</th>\n",
       "      <th>Tmin_Winter</th>\n",
       "      <th>VWC_Winter_whole</th>\n",
       "      <th>VWC_Spring_whole</th>\n",
       "      <th>VWC_Summer_whole</th>\n",
       "      <th>VWC_Fall_whole</th>\n",
       "    </tr>\n",
       "  </thead>\n",
       "  <tbody>\n",
       "    <tr>\n",
       "      <th>0</th>\n",
       "      <td>-110.047</td>\n",
       "      <td>37.604</td>\n",
       "      <td>1980</td>\n",
       "      <td>Hist</td>\n",
       "      <td>historical</td>\n",
       "      <td>sc1</td>\n",
       "      <td>0.0</td>\n",
       "      <td>0.0</td>\n",
       "      <td>78.505</td>\n",
       "      <td>4.673</td>\n",
       "      <td>...</td>\n",
       "      <td>13.79</td>\n",
       "      <td>2.69</td>\n",
       "      <td>0.965</td>\n",
       "      <td>23.159</td>\n",
       "      <td>37.05</td>\n",
       "      <td>-12.45</td>\n",
       "      <td>0.113</td>\n",
       "      <td>0.097</td>\n",
       "      <td>0.042</td>\n",
       "      <td>0.052</td>\n",
       "    </tr>\n",
       "    <tr>\n",
       "      <th>1</th>\n",
       "      <td>-110.047</td>\n",
       "      <td>37.604</td>\n",
       "      <td>1981</td>\n",
       "      <td>Hist</td>\n",
       "      <td>historical</td>\n",
       "      <td>sc1</td>\n",
       "      <td>0.0</td>\n",
       "      <td>0.0</td>\n",
       "      <td>78.505</td>\n",
       "      <td>4.673</td>\n",
       "      <td>...</td>\n",
       "      <td>2.25</td>\n",
       "      <td>9.39</td>\n",
       "      <td>3.334</td>\n",
       "      <td>23.271</td>\n",
       "      <td>37.55</td>\n",
       "      <td>-9.35</td>\n",
       "      <td>0.049</td>\n",
       "      <td>0.061</td>\n",
       "      <td>0.043</td>\n",
       "      <td>0.094</td>\n",
       "    </tr>\n",
       "    <tr>\n",
       "      <th>2</th>\n",
       "      <td>-110.047</td>\n",
       "      <td>37.604</td>\n",
       "      <td>1982</td>\n",
       "      <td>Hist</td>\n",
       "      <td>historical</td>\n",
       "      <td>sc1</td>\n",
       "      <td>0.0</td>\n",
       "      <td>0.0</td>\n",
       "      <td>78.505</td>\n",
       "      <td>4.673</td>\n",
       "      <td>...</td>\n",
       "      <td>4.12</td>\n",
       "      <td>9.50</td>\n",
       "      <td>-0.016</td>\n",
       "      <td>22.057</td>\n",
       "      <td>36.65</td>\n",
       "      <td>-16.55</td>\n",
       "      <td>0.109</td>\n",
       "      <td>0.075</td>\n",
       "      <td>0.046</td>\n",
       "      <td>0.068</td>\n",
       "    </tr>\n",
       "    <tr>\n",
       "      <th>3</th>\n",
       "      <td>-110.047</td>\n",
       "      <td>37.604</td>\n",
       "      <td>1983</td>\n",
       "      <td>Hist</td>\n",
       "      <td>historical</td>\n",
       "      <td>sc1</td>\n",
       "      <td>0.0</td>\n",
       "      <td>0.0</td>\n",
       "      <td>78.505</td>\n",
       "      <td>4.673</td>\n",
       "      <td>...</td>\n",
       "      <td>7.09</td>\n",
       "      <td>10.22</td>\n",
       "      <td>0.409</td>\n",
       "      <td>21.328</td>\n",
       "      <td>34.55</td>\n",
       "      <td>-15.05</td>\n",
       "      <td>0.120</td>\n",
       "      <td>0.103</td>\n",
       "      <td>0.044</td>\n",
       "      <td>0.075</td>\n",
       "    </tr>\n",
       "    <tr>\n",
       "      <th>4</th>\n",
       "      <td>-110.047</td>\n",
       "      <td>37.604</td>\n",
       "      <td>1984</td>\n",
       "      <td>Hist</td>\n",
       "      <td>historical</td>\n",
       "      <td>sc1</td>\n",
       "      <td>0.0</td>\n",
       "      <td>0.0</td>\n",
       "      <td>78.505</td>\n",
       "      <td>4.673</td>\n",
       "      <td>...</td>\n",
       "      <td>4.77</td>\n",
       "      <td>9.49</td>\n",
       "      <td>-1.047</td>\n",
       "      <td>21.960</td>\n",
       "      <td>35.35</td>\n",
       "      <td>-18.45</td>\n",
       "      <td>0.120</td>\n",
       "      <td>0.078</td>\n",
       "      <td>0.043</td>\n",
       "      <td>0.070</td>\n",
       "    </tr>\n",
       "  </tbody>\n",
       "</table>\n",
       "<p>5 rows × 27 columns</p>\n",
       "</div>"
      ],
      "text/plain": [
       "      long     lat  year TimePeriod         RCP scenario  treecanopy_percent  \\\n",
       "0 -110.047  37.604  1980       Hist  historical      sc1                 0.0   \n",
       "1 -110.047  37.604  1981       Hist  historical      sc1                 0.0   \n",
       "2 -110.047  37.604  1982       Hist  historical      sc1                 0.0   \n",
       "3 -110.047  37.604  1983       Hist  historical      sc1                 0.0   \n",
       "4 -110.047  37.604  1984       Hist  historical      sc1                 0.0   \n",
       "\n",
       "   Ann_Herb_percent  Bare_percent  Herb_percent  ...  PPT_Winter  PPT_Summer  \\\n",
       "0               0.0        78.505         4.673  ...       13.79        2.69   \n",
       "1               0.0        78.505         4.673  ...        2.25        9.39   \n",
       "2               0.0        78.505         4.673  ...        4.12        9.50   \n",
       "3               0.0        78.505         4.673  ...        7.09       10.22   \n",
       "4               0.0        78.505         4.673  ...        4.77        9.49   \n",
       "\n",
       "   T_Winter  T_Summer  Tmax_Summer  Tmin_Winter  VWC_Winter_whole  \\\n",
       "0     0.965    23.159        37.05       -12.45             0.113   \n",
       "1     3.334    23.271        37.55        -9.35             0.049   \n",
       "2    -0.016    22.057        36.65       -16.55             0.109   \n",
       "3     0.409    21.328        34.55       -15.05             0.120   \n",
       "4    -1.047    21.960        35.35       -18.45             0.120   \n",
       "\n",
       "   VWC_Spring_whole  VWC_Summer_whole  VWC_Fall_whole  \n",
       "0             0.097             0.042           0.052  \n",
       "1             0.061             0.043           0.094  \n",
       "2             0.075             0.046           0.068  \n",
       "3             0.103             0.044           0.075  \n",
       "4             0.078             0.043           0.070  \n",
       "\n",
       "[5 rows x 27 columns]"
      ]
     },
     "execution_count": 81,
     "metadata": {},
     "output_type": "execute_result"
    }
   ],
   "source": [
    "import plotly.express as px\n",
    "import pandas as pd\n",
    "\n",
    "data = pd.read_csv('../data/final.csv')\n",
    "data.drop(columns=['Unnamed: 0'],inplace=True)\n",
    "data.head()\n"
   ]
  },
  {
   "cell_type": "code",
   "execution_count": 69,
   "metadata": {},
   "outputs": [],
   "source": [
    "cleaned_data = data.drop(columns=['TimePeriod', 'RCP', 'scenario'])"
   ]
  },
  {
   "cell_type": "code",
   "execution_count": 70,
   "metadata": {},
   "outputs": [
    {
     "data": {
      "text/plain": [
       "((3525, 9), (882, 9), (3525, 15), (882, 15))"
      ]
     },
     "execution_count": 70,
     "metadata": {},
     "output_type": "execute_result"
    }
   ],
   "source": [
    "from sklearn.model_selection import train_test_split\n",
    "\n",
    "train_data = cleaned_data[cleaned_data['year'] < 2021]\n",
    "test_data = cleaned_data[cleaned_data['year'] >= 2021]\n",
    "\n",
    "predictors = train_data.drop(['DrySoilDays_Summer_whole', 'Evap_Summer',\n",
    "                              'ExtremeShortTermDryStress_Summer_whole', 'FrostDays_Winter',\n",
    "                              'NonDrySWA_Summer_whole', 'PPT_Winter', 'PPT_Summer', 'T_Winter',\n",
    "                              'T_Summer', 'Tmax_Summer', 'Tmin_Winter', 'VWC_Winter_whole',\n",
    "                              'VWC_Spring_whole', 'VWC_Summer_whole', 'VWC_Fall_whole'], axis=1)\n",
    "targets = train_data[['DrySoilDays_Summer_whole', 'Evap_Summer',\n",
    "                      'ExtremeShortTermDryStress_Summer_whole', 'FrostDays_Winter',\n",
    "                      'NonDrySWA_Summer_whole', 'PPT_Winter', 'PPT_Summer', 'T_Winter',\n",
    "                      'T_Summer', 'Tmax_Summer', 'Tmin_Winter', 'VWC_Winter_whole',\n",
    "                      'VWC_Spring_whole', 'VWC_Summer_whole', 'VWC_Fall_whole']]\n",
    "\n",
    "X_train, X_valid, y_train, y_valid = train_test_split(predictors, targets, test_size=0.2, random_state=42)\n",
    "\n",
    "X_train.shape, X_valid.shape, y_train.shape, y_valid.shape\n"
   ]
  },
  {
   "cell_type": "markdown",
   "metadata": {},
   "source": [
    "### Multi-output GBM"
   ]
  },
  {
   "cell_type": "code",
   "execution_count": 71,
   "metadata": {},
   "outputs": [
    {
     "data": {
      "text/plain": [
       "2.4048735840891675"
      ]
     },
     "execution_count": 71,
     "metadata": {},
     "output_type": "execute_result"
    }
   ],
   "source": [
    "from sklearn.ensemble import GradientBoostingRegressor\n",
    "from sklearn.multioutput import MultiOutputRegressor\n",
    "from sklearn.metrics import mean_squared_error\n",
    "import numpy as np\n",
    "\n",
    "gbm = GradientBoostingRegressor(random_state=42)\n",
    "\n",
    "multioutput_gbm = MultiOutputRegressor(gbm)\n",
    "\n",
    "multioutput_gbm.fit(X_train, y_train)\n",
    "\n",
    "y_pred_gbm = multioutput_gbm.predict(X_valid)\n",
    "\n",
    "rmse_gbm = np.sqrt(mean_squared_error(y_valid, y_pred_gbm))\n",
    "rmse_gbm\n"
   ]
  },
  {
   "cell_type": "markdown",
   "metadata": {},
   "source": [
    "### Neural Network"
   ]
  },
  {
   "cell_type": "code",
   "execution_count": 72,
   "metadata": {},
   "outputs": [
    {
     "data": {
      "text/plain": [
       "6.1298204920474975"
      ]
     },
     "execution_count": 72,
     "metadata": {},
     "output_type": "execute_result"
    }
   ],
   "source": [
    "from sklearn.neural_network import MLPRegressor\n",
    "nn = MLPRegressor(hidden_layer_sizes=(100,), max_iter=500, random_state=42)\n",
    "\n",
    "multioutput_nn = MultiOutputRegressor(nn)\n",
    "\n",
    "multioutput_nn.fit(X_train, y_train)\n",
    "\n",
    "y_pred_nn = multioutput_nn.predict(X_valid)\n",
    "\n",
    "rmse_nn = np.sqrt(mean_squared_error(y_valid, y_pred_nn))\n",
    "rmse_nn\n"
   ]
  },
  {
   "cell_type": "markdown",
   "metadata": {},
   "source": [
    "### Logistic Regression"
   ]
  },
  {
   "cell_type": "code",
   "execution_count": 86,
   "metadata": {},
   "outputs": [
    {
     "data": {
      "text/plain": [
       "6.006463655660495"
      ]
     },
     "execution_count": 86,
     "metadata": {},
     "output_type": "execute_result"
    }
   ],
   "source": [
    "from sklearn.linear_model import LinearRegression\n",
    "linear_reg = LinearRegression()\n",
    "\n",
    "multioutput_lr = MultiOutputRegressor(linear_reg)\n",
    "\n",
    "multioutput_lr.fit(X_train, y_train)\n",
    "\n",
    "y_pred_lr = multioutput_lr.predict(X_valid)\n",
    "\n",
    "rmse_lr = np.sqrt(mean_squared_error(y_valid, y_pred_lr))\n",
    "rmse_lr\n"
   ]
  },
  {
   "cell_type": "markdown",
   "metadata": {},
   "source": [
    "### Random Forest"
   ]
  },
  {
   "cell_type": "code",
   "execution_count": 74,
   "metadata": {},
   "outputs": [
    {
     "data": {
      "text/plain": [
       "2.2181062671685168"
      ]
     },
     "execution_count": 74,
     "metadata": {},
     "output_type": "execute_result"
    }
   ],
   "source": [
    "from sklearn.ensemble import RandomForestRegressor\n",
    "rf = RandomForestRegressor(random_state=42)\n",
    "\n",
    "multioutput_rf = MultiOutputRegressor(rf)\n",
    "\n",
    "multioutput_rf.fit(X_train, y_train)\n",
    "\n",
    "y_pred_rf = multioutput_rf.predict(X_valid)\n",
    "\n",
    "rmse_rf = np.sqrt(mean_squared_error(y_valid, y_pred_rf))\n",
    "rmse_rf\n"
   ]
  },
  {
   "cell_type": "markdown",
   "metadata": {},
   "source": [
    "### SVM"
   ]
  },
  {
   "cell_type": "code",
   "execution_count": 75,
   "metadata": {},
   "outputs": [
    {
     "data": {
      "text/plain": [
       "6.462315059025544"
      ]
     },
     "execution_count": 75,
     "metadata": {},
     "output_type": "execute_result"
    }
   ],
   "source": [
    "from sklearn.preprocessing import StandardScaler\n",
    "from sklearn.svm import SVR\n",
    "from sklearn.neighbors import KNeighborsRegressor\n",
    "from sklearn.multioutput import MultiOutputRegressor\n",
    "from sklearn.metrics import mean_squared_error\n",
    "import numpy as np\n",
    "\n",
    "scaler = StandardScaler()\n",
    "X_train_scaled = scaler.fit_transform(X_train)\n",
    "X_valid_scaled = scaler.transform(X_valid)\n",
    "\n",
    "svm_model = MultiOutputRegressor(SVR())\n",
    "svm_model.fit(X_train_scaled, y_train)\n",
    "\n",
    "svm_predictions = svm_model.predict(X_valid_scaled)\n",
    "svm_rmse = np.sqrt(mean_squared_error(y_valid, svm_predictions))\n",
    "svm_rmse"
   ]
  },
  {
   "cell_type": "markdown",
   "metadata": {},
   "source": [
    "### KNN"
   ]
  },
  {
   "cell_type": "code",
   "execution_count": 76,
   "metadata": {},
   "outputs": [
    {
     "data": {
      "text/plain": [
       "3.4243566569531936"
      ]
     },
     "execution_count": 76,
     "metadata": {},
     "output_type": "execute_result"
    }
   ],
   "source": [
    "knn_model = MultiOutputRegressor(KNeighborsRegressor())\n",
    "knn_model.fit(X_train_scaled, y_train)\n",
    "\n",
    "knn_predictions = knn_model.predict(X_valid_scaled)\n",
    "knn_rmse = np.sqrt(mean_squared_error(y_valid, knn_predictions))\n",
    "\n",
    "knn_rmse"
   ]
  },
  {
   "cell_type": "markdown",
   "metadata": {},
   "source": [
    "### Decision Tree"
   ]
  },
  {
   "cell_type": "code",
   "execution_count": 77,
   "metadata": {},
   "outputs": [
    {
     "data": {
      "text/plain": [
       "2.233301096934572"
      ]
     },
     "execution_count": 77,
     "metadata": {},
     "output_type": "execute_result"
    }
   ],
   "source": [
    "from sklearn.tree import DecisionTreeRegressor\n",
    "\n",
    "dt_model = MultiOutputRegressor(DecisionTreeRegressor(random_state=42))\n",
    "dt_model.fit(X_train_scaled, y_train)\n",
    "\n",
    "dt_predictions = dt_model.predict(X_valid_scaled)\n",
    "dt_rmse = np.sqrt(mean_squared_error(y_valid, dt_predictions))\n",
    "\n",
    "dt_rmse"
   ]
  },
  {
   "cell_type": "markdown",
   "metadata": {},
   "source": [
    "### Model Selection\n",
    "It seeems that Random Forest Model has the lowest RMSE. Therefore, I decide to choose it as the most fit model to do the prediction."
   ]
  },
  {
   "cell_type": "markdown",
   "metadata": {},
   "source": [
    "### Prediction"
   ]
  },
  {
   "cell_type": "code",
   "execution_count": 78,
   "metadata": {},
   "outputs": [],
   "source": [
    "data2 = pd.read_csv('../data/nearterm_cleaned.csv')\n",
    "\n",
    "contextual_data = data2[['long','lat','year','TimePeriod', 'RCP', 'scenario']]"
   ]
  },
  {
   "cell_type": "code",
   "execution_count": 79,
   "metadata": {},
   "outputs": [
    {
     "data": {
      "text/html": [
       "<div>\n",
       "<style scoped>\n",
       "    .dataframe tbody tr th:only-of-type {\n",
       "        vertical-align: middle;\n",
       "    }\n",
       "\n",
       "    .dataframe tbody tr th {\n",
       "        vertical-align: top;\n",
       "    }\n",
       "\n",
       "    .dataframe thead th {\n",
       "        text-align: right;\n",
       "    }\n",
       "</style>\n",
       "<table border=\"1\" class=\"dataframe\">\n",
       "  <thead>\n",
       "    <tr style=\"text-align: right;\">\n",
       "      <th></th>\n",
       "      <th>DrySoilDays_Summer_whole</th>\n",
       "      <th>Evap_Summer</th>\n",
       "      <th>ExtremeShortTermDryStress_Summer_whole</th>\n",
       "      <th>FrostDays_Winter</th>\n",
       "      <th>NonDrySWA_Summer_whole</th>\n",
       "      <th>PPT_Winter</th>\n",
       "      <th>PPT_Summer</th>\n",
       "      <th>T_Winter</th>\n",
       "      <th>T_Summer</th>\n",
       "      <th>Tmax_Summer</th>\n",
       "      <th>Tmin_Winter</th>\n",
       "      <th>VWC_Winter_whole</th>\n",
       "      <th>VWC_Spring_whole</th>\n",
       "      <th>VWC_Summer_whole</th>\n",
       "      <th>VWC_Fall_whole</th>\n",
       "    </tr>\n",
       "  </thead>\n",
       "  <tbody>\n",
       "    <tr>\n",
       "      <th>0</th>\n",
       "      <td>0.00</td>\n",
       "      <td>2.14072</td>\n",
       "      <td>35.2470</td>\n",
       "      <td>69.0</td>\n",
       "      <td>0.01133</td>\n",
       "      <td>2.6700</td>\n",
       "      <td>4.4800</td>\n",
       "      <td>2.1310</td>\n",
       "      <td>24.55000</td>\n",
       "      <td>35.950</td>\n",
       "      <td>-12.15</td>\n",
       "      <td>0.04704</td>\n",
       "      <td>0.04390</td>\n",
       "      <td>0.04214</td>\n",
       "      <td>0.09343</td>\n",
       "    </tr>\n",
       "    <tr>\n",
       "      <th>1</th>\n",
       "      <td>0.00</td>\n",
       "      <td>2.14072</td>\n",
       "      <td>35.2470</td>\n",
       "      <td>69.0</td>\n",
       "      <td>0.01133</td>\n",
       "      <td>2.6700</td>\n",
       "      <td>4.4800</td>\n",
       "      <td>2.1310</td>\n",
       "      <td>24.55000</td>\n",
       "      <td>35.950</td>\n",
       "      <td>-12.15</td>\n",
       "      <td>0.04704</td>\n",
       "      <td>0.04390</td>\n",
       "      <td>0.04214</td>\n",
       "      <td>0.09343</td>\n",
       "    </tr>\n",
       "    <tr>\n",
       "      <th>2</th>\n",
       "      <td>0.00</td>\n",
       "      <td>2.14072</td>\n",
       "      <td>35.2470</td>\n",
       "      <td>69.0</td>\n",
       "      <td>0.01133</td>\n",
       "      <td>2.6700</td>\n",
       "      <td>4.4800</td>\n",
       "      <td>2.1310</td>\n",
       "      <td>24.55000</td>\n",
       "      <td>35.950</td>\n",
       "      <td>-12.15</td>\n",
       "      <td>0.04704</td>\n",
       "      <td>0.04390</td>\n",
       "      <td>0.04214</td>\n",
       "      <td>0.09343</td>\n",
       "    </tr>\n",
       "    <tr>\n",
       "      <th>3</th>\n",
       "      <td>0.00</td>\n",
       "      <td>2.14072</td>\n",
       "      <td>35.2470</td>\n",
       "      <td>69.0</td>\n",
       "      <td>0.01133</td>\n",
       "      <td>2.6700</td>\n",
       "      <td>4.4800</td>\n",
       "      <td>2.1310</td>\n",
       "      <td>24.55000</td>\n",
       "      <td>35.950</td>\n",
       "      <td>-12.15</td>\n",
       "      <td>0.04704</td>\n",
       "      <td>0.04390</td>\n",
       "      <td>0.04214</td>\n",
       "      <td>0.09343</td>\n",
       "    </tr>\n",
       "    <tr>\n",
       "      <th>4</th>\n",
       "      <td>0.00</td>\n",
       "      <td>2.14072</td>\n",
       "      <td>35.2470</td>\n",
       "      <td>69.0</td>\n",
       "      <td>0.01133</td>\n",
       "      <td>2.6700</td>\n",
       "      <td>4.4800</td>\n",
       "      <td>2.1310</td>\n",
       "      <td>24.55000</td>\n",
       "      <td>35.950</td>\n",
       "      <td>-12.15</td>\n",
       "      <td>0.04704</td>\n",
       "      <td>0.04390</td>\n",
       "      <td>0.04214</td>\n",
       "      <td>0.09343</td>\n",
       "    </tr>\n",
       "    <tr>\n",
       "      <th>...</th>\n",
       "      <td>...</td>\n",
       "      <td>...</td>\n",
       "      <td>...</td>\n",
       "      <td>...</td>\n",
       "      <td>...</td>\n",
       "      <td>...</td>\n",
       "      <td>...</td>\n",
       "      <td>...</td>\n",
       "      <td>...</td>\n",
       "      <td>...</td>\n",
       "      <td>...</td>\n",
       "      <td>...</td>\n",
       "      <td>...</td>\n",
       "      <td>...</td>\n",
       "      <td>...</td>\n",
       "    </tr>\n",
       "    <tr>\n",
       "      <th>18075</th>\n",
       "      <td>6.73</td>\n",
       "      <td>2.64730</td>\n",
       "      <td>33.0973</td>\n",
       "      <td>72.0</td>\n",
       "      <td>0.22235</td>\n",
       "      <td>2.9548</td>\n",
       "      <td>6.1216</td>\n",
       "      <td>1.0278</td>\n",
       "      <td>22.73946</td>\n",
       "      <td>34.117</td>\n",
       "      <td>-13.84</td>\n",
       "      <td>0.09297</td>\n",
       "      <td>0.10247</td>\n",
       "      <td>0.08987</td>\n",
       "      <td>0.12108</td>\n",
       "    </tr>\n",
       "    <tr>\n",
       "      <th>18076</th>\n",
       "      <td>6.73</td>\n",
       "      <td>2.64730</td>\n",
       "      <td>33.0973</td>\n",
       "      <td>72.0</td>\n",
       "      <td>0.22235</td>\n",
       "      <td>2.9548</td>\n",
       "      <td>6.1216</td>\n",
       "      <td>1.0278</td>\n",
       "      <td>22.73946</td>\n",
       "      <td>34.117</td>\n",
       "      <td>-13.84</td>\n",
       "      <td>0.09297</td>\n",
       "      <td>0.10247</td>\n",
       "      <td>0.08987</td>\n",
       "      <td>0.12108</td>\n",
       "    </tr>\n",
       "    <tr>\n",
       "      <th>18077</th>\n",
       "      <td>6.73</td>\n",
       "      <td>2.64730</td>\n",
       "      <td>33.0973</td>\n",
       "      <td>72.0</td>\n",
       "      <td>0.22235</td>\n",
       "      <td>2.9548</td>\n",
       "      <td>6.1216</td>\n",
       "      <td>1.0278</td>\n",
       "      <td>22.73946</td>\n",
       "      <td>34.117</td>\n",
       "      <td>-13.84</td>\n",
       "      <td>0.09297</td>\n",
       "      <td>0.10247</td>\n",
       "      <td>0.08987</td>\n",
       "      <td>0.12108</td>\n",
       "    </tr>\n",
       "    <tr>\n",
       "      <th>18078</th>\n",
       "      <td>6.73</td>\n",
       "      <td>2.64730</td>\n",
       "      <td>33.0973</td>\n",
       "      <td>72.0</td>\n",
       "      <td>0.22235</td>\n",
       "      <td>2.9548</td>\n",
       "      <td>6.1216</td>\n",
       "      <td>1.0278</td>\n",
       "      <td>22.73946</td>\n",
       "      <td>34.117</td>\n",
       "      <td>-13.84</td>\n",
       "      <td>0.09297</td>\n",
       "      <td>0.10247</td>\n",
       "      <td>0.08987</td>\n",
       "      <td>0.12108</td>\n",
       "    </tr>\n",
       "    <tr>\n",
       "      <th>18079</th>\n",
       "      <td>6.73</td>\n",
       "      <td>2.64730</td>\n",
       "      <td>33.0973</td>\n",
       "      <td>72.0</td>\n",
       "      <td>0.22235</td>\n",
       "      <td>2.9548</td>\n",
       "      <td>6.1216</td>\n",
       "      <td>1.0278</td>\n",
       "      <td>22.73946</td>\n",
       "      <td>34.117</td>\n",
       "      <td>-13.84</td>\n",
       "      <td>0.09297</td>\n",
       "      <td>0.10247</td>\n",
       "      <td>0.08987</td>\n",
       "      <td>0.12108</td>\n",
       "    </tr>\n",
       "  </tbody>\n",
       "</table>\n",
       "<p>18080 rows × 15 columns</p>\n",
       "</div>"
      ],
      "text/plain": [
       "       DrySoilDays_Summer_whole  Evap_Summer  \\\n",
       "0                          0.00      2.14072   \n",
       "1                          0.00      2.14072   \n",
       "2                          0.00      2.14072   \n",
       "3                          0.00      2.14072   \n",
       "4                          0.00      2.14072   \n",
       "...                         ...          ...   \n",
       "18075                      6.73      2.64730   \n",
       "18076                      6.73      2.64730   \n",
       "18077                      6.73      2.64730   \n",
       "18078                      6.73      2.64730   \n",
       "18079                      6.73      2.64730   \n",
       "\n",
       "       ExtremeShortTermDryStress_Summer_whole  FrostDays_Winter  \\\n",
       "0                                     35.2470              69.0   \n",
       "1                                     35.2470              69.0   \n",
       "2                                     35.2470              69.0   \n",
       "3                                     35.2470              69.0   \n",
       "4                                     35.2470              69.0   \n",
       "...                                       ...               ...   \n",
       "18075                                 33.0973              72.0   \n",
       "18076                                 33.0973              72.0   \n",
       "18077                                 33.0973              72.0   \n",
       "18078                                 33.0973              72.0   \n",
       "18079                                 33.0973              72.0   \n",
       "\n",
       "       NonDrySWA_Summer_whole  PPT_Winter  PPT_Summer  T_Winter  T_Summer  \\\n",
       "0                     0.01133      2.6700      4.4800    2.1310  24.55000   \n",
       "1                     0.01133      2.6700      4.4800    2.1310  24.55000   \n",
       "2                     0.01133      2.6700      4.4800    2.1310  24.55000   \n",
       "3                     0.01133      2.6700      4.4800    2.1310  24.55000   \n",
       "4                     0.01133      2.6700      4.4800    2.1310  24.55000   \n",
       "...                       ...         ...         ...       ...       ...   \n",
       "18075                 0.22235      2.9548      6.1216    1.0278  22.73946   \n",
       "18076                 0.22235      2.9548      6.1216    1.0278  22.73946   \n",
       "18077                 0.22235      2.9548      6.1216    1.0278  22.73946   \n",
       "18078                 0.22235      2.9548      6.1216    1.0278  22.73946   \n",
       "18079                 0.22235      2.9548      6.1216    1.0278  22.73946   \n",
       "\n",
       "       Tmax_Summer  Tmin_Winter  VWC_Winter_whole  VWC_Spring_whole  \\\n",
       "0           35.950       -12.15           0.04704           0.04390   \n",
       "1           35.950       -12.15           0.04704           0.04390   \n",
       "2           35.950       -12.15           0.04704           0.04390   \n",
       "3           35.950       -12.15           0.04704           0.04390   \n",
       "4           35.950       -12.15           0.04704           0.04390   \n",
       "...            ...          ...               ...               ...   \n",
       "18075       34.117       -13.84           0.09297           0.10247   \n",
       "18076       34.117       -13.84           0.09297           0.10247   \n",
       "18077       34.117       -13.84           0.09297           0.10247   \n",
       "18078       34.117       -13.84           0.09297           0.10247   \n",
       "18079       34.117       -13.84           0.09297           0.10247   \n",
       "\n",
       "       VWC_Summer_whole  VWC_Fall_whole  \n",
       "0               0.04214         0.09343  \n",
       "1               0.04214         0.09343  \n",
       "2               0.04214         0.09343  \n",
       "3               0.04214         0.09343  \n",
       "4               0.04214         0.09343  \n",
       "...                 ...             ...  \n",
       "18075           0.08987         0.12108  \n",
       "18076           0.08987         0.12108  \n",
       "18077           0.08987         0.12108  \n",
       "18078           0.08987         0.12108  \n",
       "18079           0.08987         0.12108  \n",
       "\n",
       "[18080 rows x 15 columns]"
      ]
     },
     "execution_count": 79,
     "metadata": {},
     "output_type": "execute_result"
    }
   ],
   "source": [
    "X_test = data2.drop(['TimePeriod', 'RCP', 'scenario',\n",
    "                     'DrySoilDays_Summer_whole', 'Evap_Summer', 'ExtremeShortTermDryStress_Summer_whole',\n",
    "                     'FrostDays_Winter', 'NonDrySWA_Summer_whole', 'PPT_Winter', 'PPT_Summer', 'T_Winter',\n",
    "                     'T_Summer', 'Tmax_Summer', 'Tmin_Winter', 'VWC_Winter_whole',\n",
    "                     'VWC_Spring_whole', 'VWC_Summer_whole', 'VWC_Fall_whole'], axis=1)\n",
    "\n",
    "predictions_rf = multioutput_rf.predict(X_test)\n",
    "\n",
    "predicted_columns = [\n",
    "    'DrySoilDays_Summer_whole', 'Evap_Summer', 'ExtremeShortTermDryStress_Summer_whole',\n",
    "    'FrostDays_Winter', 'NonDrySWA_Summer_whole', 'PPT_Winter', 'PPT_Summer', 'T_Winter',\n",
    "    'T_Summer', 'Tmax_Summer', 'Tmin_Winter', 'VWC_Winter_whole',\n",
    "    'VWC_Spring_whole', 'VWC_Summer_whole', 'VWC_Fall_whole'\n",
    "]\n",
    "predictions_df = pd.DataFrame(predictions_rf, columns=predicted_columns, index=X_test.index)\n",
    "\n",
    "predictions_df"
   ]
  },
  {
   "cell_type": "code",
   "execution_count": 80,
   "metadata": {},
   "outputs": [],
   "source": [
    "merged_predictions = pd.concat([contextual_data.reset_index(drop=True), predictions_df], axis=1)\n",
    "\n",
    "output_path = '../data/predict_outcome.csv'\n",
    "merged_predictions.to_csv(output_path, index=False)"
   ]
  }
 ],
 "metadata": {
  "kernelspec": {
   "display_name": "base",
   "language": "python",
   "name": "python3"
  },
  "language_info": {
   "codemirror_mode": {
    "name": "ipython",
    "version": 3
   },
   "file_extension": ".py",
   "mimetype": "text/x-python",
   "name": "python",
   "nbconvert_exporter": "python",
   "pygments_lexer": "ipython3",
   "version": "3.11.5"
  }
 },
 "nbformat": 4,
 "nbformat_minor": 2
}
